{
 "cells": [
  {
   "cell_type": "markdown",
   "id": "c84c0a05-63a1-44a8-a97c-19ef6d709197",
   "metadata": {},
   "source": [
    "# Câu1"
   ]
  },
  {
   "cell_type": "code",
   "execution_count": 6,
   "id": "fee2dd6d-43ed-4440-ba78-a792542f164c",
   "metadata": {},
   "outputs": [],
   "source": [
    "import pandas as pd\n",
    "\n",
    "# Tạo dữ liệu mẫu\n",
    "df = pd.DataFrame({\n",
    "    'A': [1, 2, 3, 4, 5],\n",
    "    'B': [2, 3, 4, 5, 6]\n",
    "})\n",
    "\n",
    "# Lưu thành CSV\n",
    "df.to_csv('data.csv', index=False)\n"
   ]
  },
  {
   "cell_type": "code",
   "execution_count": 10,
   "id": "08718603-1b02-4cf7-8648-02033484d070",
   "metadata": {},
   "outputs": [
    {
     "name": "stdout",
     "output_type": "stream",
     "text": [
      "Hệ số tương quan Pearson giữa A và B là: 1.0\n"
     ]
    }
   ],
   "source": [
    "import sqlite3\n",
    "\n",
    "# Đọc dữ liệu từ CSV\n",
    "df = pd.read_csv('data.csv')\n",
    "\n",
    "# Tạo kết nối SQLite trong RAM\n",
    "conn = sqlite3.connect(\":memory:\")\n",
    "df.to_sql(\"my_table\", conn, index=False, if_exists=\"replace\")\n",
    "\n",
    "# SQL phải tạo cột phụ để tính toán vì SQLite không hiểu trực tiếp biểu thức phức tạp\n",
    "query = \"\"\"\n",
    "SELECT\n",
    "    COUNT(*) AS n,\n",
    "    SUM(A) AS sumA,\n",
    "    SUM(B) AS sumB,\n",
    "    SUM(A * B) AS sumAB,\n",
    "    SUM(A * A) AS sumA2,\n",
    "    SUM(B * B) AS sumB2\n",
    "FROM my_table;\n",
    "\"\"\"\n",
    "\n",
    "# Thực thi truy vấn\n",
    "stats = pd.read_sql_query(query, conn).iloc[0]\n",
    "\n",
    "# Lấy các biến cần thiết\n",
    "n = stats['n']\n",
    "sumA = stats['sumA']\n",
    "sumB = stats['sumB']\n",
    "sumAB = stats['sumAB']\n",
    "sumA2 = stats['sumA2']\n",
    "sumB2 = stats['sumB2']\n",
    "\n",
    "# Tính hệ số tương quan Pearson r\n",
    "numerator = n * sumAB - sumA * sumB\n",
    "denominator = ((n * sumA2 - sumA ** 2) * (n * sumB2 - sumB ** 2)) ** 0.5\n",
    "\n",
    "correlation = numerator / denominator\n",
    "print(\"Hệ số tương quan Pearson giữa A và B là:\", correlation)\n"
   ]
  },
  {
   "cell_type": "markdown",
   "id": "f754f442-48e3-4fac-9f80-32c069b42404",
   "metadata": {},
   "source": [
    "# Câu2"
   ]
  },
  {
   "cell_type": "code",
   "execution_count": 12,
   "id": "e952a436-bbe7-4b47-b7d8-32e967499272",
   "metadata": {},
   "outputs": [
    {
     "name": "stdout",
     "output_type": "stream",
     "text": [
      "Chi-squared = 0.8999999999999999\n",
      "p-value = 0.9245608198515713\n",
      "Degrees of freedom = 4\n",
      "\n",
      "Expected frequencies:\n",
      "[[1.         1.66666667 1.33333333]\n",
      " [1.         1.66666667 1.33333333]\n",
      " [1.         1.66666667 1.33333333]]\n",
      "\n",
      " Không có sự khác biệt đáng kể giữa các mẫu xe.\n"
     ]
    }
   ],
   "source": [
    "from scipy.stats import chi2_contingency\n",
    "\n",
    "# Dữ liệu\n",
    "data = {\n",
    "    'Day': ['Day 1', 'Day 1', 'Day 1', 'Day 2', 'Day 2', 'Day 2', 'Day 3', 'Day 3', 'Day 3', 'Day 4', 'Day 4', 'Day 4'],\n",
    "    'Car': ['A', 'B', 'C'] * 4,\n",
    "    'Score': [8, 9, 7, 7.5, 8.5, 7, 6, 7, 8, 7, 6, 5]\n",
    "}\n",
    "\n",
    "df = pd.DataFrame(data)\n",
    "\n",
    "# Phân nhóm điểm: thấp (≤6.5), trung bình (6.6–7.5), cao (>7.5)\n",
    "df['ScoreGroup'] = pd.cut(df['Score'], bins=[0, 6.5, 7.5, 10], labels=['Low', 'Medium', 'High'])\n",
    "\n",
    "# Tạo bảng tần số\n",
    "contingency = pd.crosstab(df['Car'], df['ScoreGroup'])\n",
    "\n",
    "# Kiểm định chi-squared\n",
    "chi2, p, dof, expected = chi2_contingency(contingency)\n",
    "\n",
    "print(\"Chi-squared =\", chi2)\n",
    "print(\"p-value =\", p)\n",
    "print(\"Degrees of freedom =\", dof)\n",
    "print(\"\\nExpected frequencies:\")\n",
    "print(expected)\n",
    "\n",
    "# Đánh giá kết quả\n",
    "if p < 0.05:\n",
    "    print(\"\\n Có sự khác biệt đáng kể giữa các mẫu xe về phân bố điểm.\")\n",
    "else:\n",
    "    print(\"\\n Không có sự khác biệt đáng kể giữa các mẫu xe.\")\n"
   ]
  },
  {
   "cell_type": "markdown",
   "id": "0fbf043d-6072-4251-bfb0-cdbf5b49e18f",
   "metadata": {},
   "source": [
    "Kết quả thử nghiệm phụ thuộc vào cả mẫu xe và ngày. \n",
    "Tuy nhiên, ảnh hưởng của ngày có thể mạnh hơn, do điểm số thay đổi rõ rệt qua các ngày thử nghiệm."
   ]
  },
  {
   "cell_type": "markdown",
   "id": "e27e1d5f-4ddc-44d3-a7d5-8a837f2fef37",
   "metadata": {},
   "source": [
    "Hãy chuyển đổi dữ liệu sang dạng quan hệ và thực hiện kiểm tra χ2"
   ]
  },
  {
   "cell_type": "code",
   "execution_count": 20,
   "id": "aeaa1512-d3ed-45ea-8310-93115401df4c",
   "metadata": {},
   "outputs": [
    {
     "name": "stdout",
     "output_type": "stream",
     "text": [
      "Bảng chéo:\n",
      " B_cat  Thấp  Cao\n",
      "A_cat           \n",
      "Thấp      3    0\n",
      "Cao       0    2\n",
      "\n",
      "Chi-squared = 1.7013888888888888\n",
      "p-value = 0.1921064408679386\n",
      "Degrees of freedom = 1\n",
      "Expected frequencies:\n",
      " [[1.8 1.2]\n",
      " [1.2 0.8]]\n"
     ]
    }
   ],
   "source": [
    "# Bước 1: Chuyển dữ liệu số sang dạng phân loại (dùng pd.cut)\n",
    "df['A_cat'] = pd.cut(df['A'], bins=2, labels=['Thấp', 'Cao'])\n",
    "df['B_cat'] = pd.cut(df['B'], bins=2, labels=['Thấp', 'Cao'])\n",
    "\n",
    "# Bước 2: Tạo bảng quan hệ (contingency table)\n",
    "contingency_table = pd.crosstab(df['A_cat'], df['B_cat'])\n",
    "\n",
    "# Bước 3: Thực hiện kiểm định Chi-squared\n",
    "chi2, p, dof, expected = chi2_contingency(contingency_table)\n",
    "\n",
    "# Kết quả\n",
    "print(\"Bảng chéo:\\n\", contingency_table)\n",
    "print(\"\\nChi-squared =\", chi2)\n",
    "print(\"p-value =\", p)\n",
    "print(\"Degrees of freedom =\", dof)\n",
    "print(\"Expected frequencies:\\n\", expected)\n"
   ]
  },
  {
   "cell_type": "markdown",
   "id": "5b1773ef-a421-4876-bd18-242cea5bd6c8",
   "metadata": {},
   "source": [
    "1. Giá trị p-value = 0.1921 > 0.05\n",
    "-Không đủ bằng chứng thống kê để bác bỏ giả thuyết không H₀.\n",
    "-Điều đó có nghĩa là không có mối liên hệ có ý nghĩa thống kê giữa hai biến phân loại A_cat và B_cat.\n",
    "2. Chi-squared = 1.7014 là tương đối nhỏ\n",
    "-Sự khác biệt giữa giá trị quan sát và giá trị kỳ vọng là không đáng kể.\n",
    "3. Số bậc tự do = 1\n",
    "-Phù hợp với bảng 2 hàng × 2 cột (2x2)."
   ]
  },
  {
   "cell_type": "markdown",
   "id": "beb8013f-3dad-4668-8eb7-88b39e88101d",
   "metadata": {},
   "source": [
    "# Câu3"
   ]
  },
  {
   "cell_type": "code",
   "execution_count": 24,
   "id": "cc1f757a-32b9-43bc-b6c1-0946d82b284e",
   "metadata": {},
   "outputs": [
    {
     "name": "stdout",
     "output_type": "stream",
     "text": [
      "   departure_time departure_time_converted\n",
      "0           830.0                 08:30:00\n",
      "1          1445.0                 14:45:00\n",
      "2            30.0                 00:30:00\n",
      "3          1230.0                 12:30:00\n",
      "4             NaN                 00:00:00\n"
     ]
    }
   ],
   "source": [
    "# 1. Kết nối đến cơ sở dữ liệu SQLite (hoặc tạo mới)\n",
    "conn = sqlite3.connect(\":memory:\")  # dùng \":memory:\" cho CSDL tạm thời\n",
    "cursor = conn.cursor()\n",
    "\n",
    "# 2. Tạo bảng flights và thêm dữ liệu mẫu\n",
    "cursor.execute(\"\"\"\n",
    "CREATE TABLE flights (\n",
    "    id INTEGER PRIMARY KEY AUTOINCREMENT,\n",
    "    departure_time INTEGER\n",
    ")\n",
    "\"\"\")\n",
    "\n",
    "# 3. Thêm dữ liệu mẫu\n",
    "sample_data = [(830,), (1445,), (30,), (1230,), (None,)]\n",
    "cursor.executemany(\"INSERT INTO flights (departure_time) VALUES (?)\", sample_data)\n",
    "conn.commit()\n",
    "\n",
    "# 4. Truy vấn và chuyển đổi departure_time thành HH:MM bằng SQL\n",
    "query = \"\"\"\n",
    "SELECT \n",
    "    departure_time,\n",
    "    TIME(printf('%02d:%02d', departure_time / 100, departure_time % 100)) AS departure_time_converted\n",
    "FROM flights\n",
    "\"\"\"\n",
    "\n",
    "# 5. Đọc kết quả vào DataFrame\n",
    "df_result = pd.read_sql_query(query, conn)\n",
    "print(df_result)\n",
    "\n",
    "# Đóng kết nối\n",
    "conn.close()\n"
   ]
  },
  {
   "cell_type": "markdown",
   "id": "5d83cb8b-798a-4946-bd6d-769dd87caa21",
   "metadata": {},
   "source": [
    "1. Các giá trị departure_time dạng số nguyên đã được chuyển thành định dạng thời gian HH:MM:SS.\n",
    "\n",
    "2. Thay vì hiển thị số 830, 1445, 30 vốn khó hiểu, giờ đây chúng ta thấy rõ 08:30:00, 14:45:00, 00:30:00."
   ]
  },
  {
   "cell_type": "markdown",
   "id": "d27f6e51-5289-4530-9b53-23333f139b69",
   "metadata": {},
   "source": [
    "# Câu4"
   ]
  },
  {
   "cell_type": "code",
   "execution_count": 32,
   "id": "4db1f626-8317-4dda-9113-966a24724d33",
   "metadata": {},
   "outputs": [
    {
     "name": "stdout",
     "output_type": "stream",
     "text": [
      "   id  value  is_outlier\n",
      "0   1   10.0        True\n",
      "3   4  100.0        True\n"
     ]
    }
   ],
   "source": [
    "import numpy as np\n",
    "\n",
    "# Kết nối SQLite\n",
    "conn = sqlite3.connect(':memory:')\n",
    "cursor = conn.cursor()\n",
    "\n",
    "# Tạo bảng mẫu và thêm dữ liệu\n",
    "cursor.execute(\"CREATE TABLE data (id INTEGER, value REAL)\")\n",
    "values = [(1, 10), (2, 12), (3, 14), (4, 100), (5, 13), (6, 11)]\n",
    "cursor.executemany(\"INSERT INTO data (id, value) VALUES (?, ?)\", values)\n",
    "conn.commit()\n",
    "\n",
    "# Đọc dữ liệu vào pandas để tính MAD\n",
    "df = pd.read_sql(\"SELECT * FROM data\", conn)\n",
    "\n",
    "# Tính median và MAD\n",
    "median = df['value'].median()\n",
    "mad = np.median(np.abs(df['value'] - median))\n",
    "\n",
    "# Ngưỡng phát hiện ngoại lệ\n",
    "threshold = 1.5 * mad\n",
    "\n",
    "# Gắn cờ ngoại lệ\n",
    "df['is_outlier'] = np.abs(df['value'] - median) > threshold\n",
    "\n",
    "# Hiển thị kết quả\n",
    "print(df[df['is_outlier'] == True])\n"
   ]
  },
  {
   "cell_type": "markdown",
   "id": "915c62ab-0fc8-476a-a909-7743084a0ffb",
   "metadata": {},
   "source": [
    "1. Giá trị 10.0 cũng được xem là ngoại lệ:\n",
    "\n",
    "Vì nó nằm xa về phía dưới so với median, vượt quá ngưỡng MAD.\n",
    "Điều này cho thấy ngoại lệ không chỉ là giá trị lớn, mà còn là những giá trị cực nhỏ nằm ngoài \"vùng trung tâm\" của dữ liệu.\n",
    "\n",
    "2. Giá trị 100.0 là ngoại lệ rõ ràng:\n",
    "\n",
    "Đây là một giá trị rất lớn so với phần còn lại của tập dữ liệu (khoảng 10–14), nên việc gắn cờ là hợp lý."
   ]
  },
  {
   "cell_type": "markdown",
   "id": "26f4741b-e46e-47e5-8d26-5ab1e0af0609",
   "metadata": {},
   "source": [
    "# Câu5"
   ]
  },
  {
   "cell_type": "code",
   "execution_count": null,
   "id": "c5a8d24b-f602-4b30-9675-e206ab653e4d",
   "metadata": {},
   "outputs": [],
   "source": []
  }
 ],
 "metadata": {
  "kernelspec": {
   "display_name": "Python 3 (ipykernel)",
   "language": "python",
   "name": "python3"
  },
  "language_info": {
   "codemirror_mode": {
    "name": "ipython",
    "version": 3
   },
   "file_extension": ".py",
   "mimetype": "text/x-python",
   "name": "python",
   "nbconvert_exporter": "python",
   "pygments_lexer": "ipython3",
   "version": "3.12.7"
  }
 },
 "nbformat": 4,
 "nbformat_minor": 5
}
